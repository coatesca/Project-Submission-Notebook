{
 "cells": [
  {
   "cell_type": "code",
   "execution_count": 488,
   "id": "2bdd2c99-7881-4d18-9087-9be21f794c50",
   "metadata": {},
   "outputs": [],
   "source": [
    "import pandas as pd"
   ]
  },
  {
   "cell_type": "code",
   "execution_count": 489,
   "id": "56376622-148b-412b-9323-1f14f1c40792",
   "metadata": {},
   "outputs": [],
   "source": [
    "import os"
   ]
  },
  {
   "cell_type": "code",
   "execution_count": 490,
   "id": "f381fbc5-23fb-4bfc-b263-1aa65930d387",
   "metadata": {},
   "outputs": [
    {
     "data": {
      "text/plain": [
       "'/Users/claireoates-calver/Desktop/football'"
      ]
     },
     "execution_count": 490,
     "metadata": {},
     "output_type": "execute_result"
    }
   ],
   "source": [
    "os.getcwd()"
   ]
  },
  {
   "cell_type": "code",
   "execution_count": 491,
   "id": "880de95a-e06e-4353-acb3-28602527bc29",
   "metadata": {},
   "outputs": [],
   "source": [
    "os.chdir('/Users/claireoates-calver/Desktop/football/')"
   ]
  },
  {
   "cell_type": "code",
   "execution_count": 492,
   "id": "1af89fa5-8e63-44c4-bd7f-ab6021081e82",
   "metadata": {},
   "outputs": [],
   "source": [
    "df = pd.read_csv('results.csv')"
   ]
  },
  {
   "cell_type": "code",
   "execution_count": 493,
   "id": "801979df-c969-4b63-ad84-a37810fb4f3a",
   "metadata": {},
   "outputs": [
    {
     "name": "stdout",
     "output_type": "stream",
     "text": [
      "<class 'pandas.core.frame.DataFrame'>\n",
      "RangeIndex: 45315 entries, 0 to 45314\n",
      "Data columns (total 9 columns):\n",
      " #   Column      Non-Null Count  Dtype \n",
      "---  ------      --------------  ----- \n",
      " 0   date        45315 non-null  object\n",
      " 1   home_team   45315 non-null  object\n",
      " 2   away_team   45315 non-null  object\n",
      " 3   home_score  45315 non-null  int64 \n",
      " 4   away_score  45315 non-null  int64 \n",
      " 5   tournament  45315 non-null  object\n",
      " 6   city        45315 non-null  object\n",
      " 7   country     45315 non-null  object\n",
      " 8   neutral     45315 non-null  bool  \n",
      "dtypes: bool(1), int64(2), object(6)\n",
      "memory usage: 2.8+ MB\n"
     ]
    }
   ],
   "source": [
    "df.info()"
   ]
  },
  {
   "cell_type": "markdown",
   "id": "bd5527f9-5f02-460a-bff3-6ca24814b70a",
   "metadata": {},
   "source": [
    "# What is the average number of goals for the home team?"
   ]
  },
  {
   "cell_type": "code",
   "execution_count": 495,
   "id": "8db19f40-a9c4-41ea-a117-d5b8fc7e57db",
   "metadata": {},
   "outputs": [
    {
     "data": {
      "text/plain": [
       "1.7393136930376256"
      ]
     },
     "execution_count": 495,
     "metadata": {},
     "output_type": "execute_result"
    }
   ],
   "source": [
    "df['home_score'].mean()"
   ]
  },
  {
   "cell_type": "markdown",
   "id": "8f472824-d514-453b-9bc0-403237b13a8a",
   "metadata": {},
   "source": [
    "# What is the average number of goals for the away team?"
   ]
  },
  {
   "cell_type": "code",
   "execution_count": 497,
   "id": "98b0f846-c99f-4a3e-aecd-ad7f531657be",
   "metadata": {},
   "outputs": [
    {
     "data": {
      "text/plain": [
       "1.1782412004854905"
      ]
     },
     "execution_count": 497,
     "metadata": {},
     "output_type": "execute_result"
    }
   ],
   "source": [
    "df['away_score'].mean()"
   ]
  },
  {
   "cell_type": "markdown",
   "id": "c8069f13-17e1-411f-a21e-9f73cd4bc227",
   "metadata": {},
   "source": [
    "# What is the country with the highest overall home score?"
   ]
  },
  {
   "cell_type": "code",
   "execution_count": 499,
   "id": "12d529e8-52b4-413b-b3d1-77a100082904",
   "metadata": {},
   "outputs": [],
   "source": [
    "grouped = df.groupby('country')"
   ]
  },
  {
   "cell_type": "code",
   "execution_count": 500,
   "id": "313dfede-d38f-4398-b7c2-05cb02a3dfff",
   "metadata": {},
   "outputs": [
    {
     "data": {
      "text/plain": [
       "home_score    United States\n",
       "away_score    United States\n",
       "neutral       United States\n",
       "dtype: object"
      ]
     },
     "execution_count": 500,
     "metadata": {},
     "output_type": "execute_result"
    }
   ],
   "source": [
    "grouped.sum('home_score').idxmax()"
   ]
  },
  {
   "cell_type": "markdown",
   "id": "bcca57d3-2af4-40ad-8ceb-2f6af04fadec",
   "metadata": {},
   "source": [
    "# What are the top 3 types of tournaments?"
   ]
  },
  {
   "cell_type": "code",
   "execution_count": 502,
   "id": "f4af6841-f9ee-4a6e-a858-ea78e0acc579",
   "metadata": {},
   "outputs": [
    {
     "data": {
      "text/plain": [
       "tournament\n",
       "Friendly                                17773\n",
       "FIFA World Cup qualification             8016\n",
       "UEFA Euro qualification                  2815\n",
       "African Cup of Nations qualification     1998\n",
       "FIFA World Cup                            964\n",
       "                                        ...  \n",
       "FIFA 75th Anniversary Cup                   1\n",
       "Real Madrid 75th Anniversary Cup            1\n",
       "The Other Final                             1\n",
       "TIFOCO Tournament                           1\n",
       "Évence Coppée Trophy                        1\n",
       "Name: count, Length: 147, dtype: int64"
      ]
     },
     "execution_count": 502,
     "metadata": {},
     "output_type": "execute_result"
    }
   ],
   "source": [
    "df.value_counts('tournament')"
   ]
  },
  {
   "cell_type": "markdown",
   "id": "963311b7-23b1-4d45-87a2-5c70bc070ced",
   "metadata": {},
   "source": [
    "# Which country has the highest overall Fifa World Cup goals?"
   ]
  },
  {
   "cell_type": "code",
   "execution_count": 504,
   "id": "d3d53f3d-6dc7-43e5-88d6-f9d7fc8fdd19",
   "metadata": {},
   "outputs": [],
   "source": [
    "fifa_df = df.loc[df['tournament'] == 'FIFA World Cup']"
   ]
  },
  {
   "cell_type": "code",
   "execution_count": 505,
   "id": "e0a69876-fb60-4341-8f79-62ee5c65eaf5",
   "metadata": {},
   "outputs": [
    {
     "name": "stdout",
     "output_type": "stream",
     "text": [
      "<class 'pandas.core.frame.DataFrame'>\n",
      "Index: 964 entries, 1311 to 44358\n",
      "Data columns (total 9 columns):\n",
      " #   Column      Non-Null Count  Dtype \n",
      "---  ------      --------------  ----- \n",
      " 0   date        964 non-null    object\n",
      " 1   home_team   964 non-null    object\n",
      " 2   away_team   964 non-null    object\n",
      " 3   home_score  964 non-null    int64 \n",
      " 4   away_score  964 non-null    int64 \n",
      " 5   tournament  964 non-null    object\n",
      " 6   city        964 non-null    object\n",
      " 7   country     964 non-null    object\n",
      " 8   neutral     964 non-null    bool  \n",
      "dtypes: bool(1), int64(2), object(6)\n",
      "memory usage: 68.7+ KB\n"
     ]
    }
   ],
   "source": [
    "fifa_df.info()"
   ]
  },
  {
   "cell_type": "code",
   "execution_count": 506,
   "id": "e440854d-eaf8-48aa-aed2-c12c67174ab2",
   "metadata": {},
   "outputs": [],
   "source": [
    "cols = ['home_score','away_score']"
   ]
  },
  {
   "cell_type": "code",
   "execution_count": 507,
   "id": "63ef81eb-7e0f-4b0d-8b97-cd8518e2d5ab",
   "metadata": {},
   "outputs": [
    {
     "name": "stderr",
     "output_type": "stream",
     "text": [
      "/var/folders/jy/j07clgw97fsch0f48vt8rsph0000gn/T/ipykernel_92998/676376544.py:1: SettingWithCopyWarning: \n",
      "A value is trying to be set on a copy of a slice from a DataFrame.\n",
      "Try using .loc[row_indexer,col_indexer] = value instead\n",
      "\n",
      "See the caveats in the documentation: https://pandas.pydata.org/pandas-docs/stable/user_guide/indexing.html#returning-a-view-versus-a-copy\n",
      "  fifa_df['total_score'] = fifa_df[cols].sum(axis=1)\n"
     ]
    }
   ],
   "source": [
    "fifa_df['total_score'] = fifa_df[cols].sum(axis=1)"
   ]
  },
  {
   "cell_type": "code",
   "execution_count": 508,
   "id": "94ebdc30-51a8-4f77-a474-a14cd2b542ae",
   "metadata": {},
   "outputs": [],
   "source": [
    "grouped2 = fifa_df.groupby('country')"
   ]
  },
  {
   "cell_type": "code",
   "execution_count": 509,
   "id": "b9f2e66c-5cc2-4bdb-ba64-befacba5e3cb",
   "metadata": {},
   "outputs": [
    {
     "data": {
      "text/plain": [
       "home_score      France\n",
       "away_score      Brazil\n",
       "neutral        Germany\n",
       "total_score     Brazil\n",
       "dtype: object"
      ]
     },
     "execution_count": 509,
     "metadata": {},
     "output_type": "execute_result"
    }
   ],
   "source": [
    "grouped2.sum('total_score').idxmax()"
   ]
  }
 ],
 "metadata": {
  "kernelspec": {
   "display_name": "Python 3 (ipykernel)",
   "language": "python",
   "name": "python3"
  },
  "language_info": {
   "codemirror_mode": {
    "name": "ipython",
    "version": 3
   },
   "file_extension": ".py",
   "mimetype": "text/x-python",
   "name": "python",
   "nbconvert_exporter": "python",
   "pygments_lexer": "ipython3",
   "version": "3.11.7"
  }
 },
 "nbformat": 4,
 "nbformat_minor": 5
}
